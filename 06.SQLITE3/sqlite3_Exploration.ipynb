{
 "cells": [
  {
   "cell_type": "code",
   "execution_count": 40,
   "id": "7281b060",
   "metadata": {},
   "outputs": [],
   "source": [
    "import sqlite3"
   ]
  },
  {
   "cell_type": "markdown",
   "id": "cfeeb9f6",
   "metadata": {},
   "source": [
    "# sqlite3"
   ]
  },
  {
   "cell_type": "markdown",
   "id": "906beb05",
   "metadata": {},
   "source": [
    "## Connection à la base"
   ]
  },
  {
   "cell_type": "code",
   "execution_count": 41,
   "id": "3000fd5d",
   "metadata": {},
   "outputs": [],
   "source": [
    "conn = sqlite3.connect('data/jukebox.sqlite')\n",
    "c = conn.cursor()"
   ]
  },
  {
   "cell_type": "markdown",
   "id": "1a6beb93",
   "metadata": {},
   "source": [
    "## Fetchall basique"
   ]
  },
  {
   "cell_type": "code",
   "execution_count": 42,
   "id": "8b6bbff7",
   "metadata": {},
   "outputs": [
    {
     "data": {
      "text/plain": [
       "[(1, 'For Those About To Rock We Salute You', 1),\n",
       " (2, 'Balls to the Wall', 2),\n",
       " (3, 'Restless and Wild', 2),\n",
       " (4, 'Let There Be Rock', 1),\n",
       " (5, 'Big Ones', 3),\n",
       " (6, 'Jagged Little Pill', 4),\n",
       " (7, 'Facelift', 5),\n",
       " (8, 'Warner 25 Anos', 6),\n",
       " (9, 'Plays Metallica By Four Cellos', 7),\n",
       " (10, 'Audioslave', 8)]"
      ]
     },
     "execution_count": 42,
     "metadata": {},
     "output_type": "execute_result"
    }
   ],
   "source": [
    "c.execute(\"SELECT * FROM albums LIMIT 10\")\n",
    "rows = c.fetchall()\n",
    "rows #liste de tupple #liste vide si rien"
   ]
  },
  {
   "cell_type": "markdown",
   "id": "60590a94",
   "metadata": {},
   "source": [
    "## Fetchone basique"
   ]
  },
  {
   "cell_type": "code",
   "execution_count": 44,
   "id": "d0f78f19",
   "metadata": {},
   "outputs": [
    {
     "data": {
      "text/plain": [
       "(1, 'For Those About To Rock We Salute You', 1)"
      ]
     },
     "execution_count": 44,
     "metadata": {},
     "output_type": "execute_result"
    }
   ],
   "source": [
    "c.execute(\"SELECT * FROM albums LIMIT 1\")\n",
    "rows = c.fetchone()\n",
    "rows #tupple #None si rien"
   ]
  },
  {
   "cell_type": "markdown",
   "id": "ad6b6d08",
   "metadata": {},
   "source": [
    "## Row Factory : permet de sléectionner les items par nom de colonne"
   ]
  },
  {
   "cell_type": "code",
   "execution_count": 37,
   "id": "aef3a5a5",
   "metadata": {},
   "outputs": [],
   "source": [
    "conn.row_factory = sqlite3.Row #cellule qui active le row factory et permet la séleciton par nom de colonne\n",
    "c = conn.cursor()"
   ]
  },
  {
   "cell_type": "markdown",
   "id": "b445c294",
   "metadata": {},
   "source": [
    "## Fetchall"
   ]
  },
  {
   "cell_type": "code",
   "execution_count": 32,
   "id": "77d281a3",
   "metadata": {},
   "outputs": [
    {
     "data": {
      "text/plain": [
       "<sqlite3.Row at 0x7fa3482c7250>"
      ]
     },
     "execution_count": 32,
     "metadata": {},
     "output_type": "execute_result"
    }
   ],
   "source": [
    "c.execute(\"SELECT * FROM albums\")\n",
    "rows = c.fetchall()\n",
    "first_row = rows[0]\n",
    "first_row"
   ]
  },
  {
   "cell_type": "code",
   "execution_count": 33,
   "id": "45473e57",
   "metadata": {},
   "outputs": [
    {
     "data": {
      "text/plain": [
       "'For Those About To Rock We Salute You'"
      ]
     },
     "execution_count": 33,
     "metadata": {},
     "output_type": "execute_result"
    }
   ],
   "source": [
    "first_row = rows[0]\n",
    "first_row['title']"
   ]
  },
  {
   "cell_type": "markdown",
   "id": "f1ea160d",
   "metadata": {},
   "source": [
    " ## Fetchone"
   ]
  },
  {
   "cell_type": "code",
   "execution_count": 36,
   "id": "c092aefd",
   "metadata": {},
   "outputs": [
    {
     "data": {
      "text/plain": [
       "<sqlite3.Row at 0x7fa3482c73b0>"
      ]
     },
     "execution_count": 36,
     "metadata": {},
     "output_type": "execute_result"
    }
   ],
   "source": [
    "c.execute(\"SELECT * FROM albums WHERE albums.id = 1\") #si row_factory actif, renvoie un objet row_factory\n",
    "row = c.fetchone()\n",
    "row"
   ]
  },
  {
   "cell_type": "code",
   "execution_count": 35,
   "id": "2eecd917",
   "metadata": {},
   "outputs": [
    {
     "data": {
      "text/plain": [
       "'For Those About To Rock We Salute You'"
      ]
     },
     "execution_count": 35,
     "metadata": {},
     "output_type": "execute_result"
    }
   ],
   "source": [
    "row['title']"
   ]
  },
  {
   "cell_type": "markdown",
   "id": "b7d56bc3",
   "metadata": {},
   "source": [
    "# SQL"
   ]
  },
  {
   "cell_type": "markdown",
   "id": "d2d24a4d",
   "metadata": {},
   "source": [
    "## Projection"
   ]
  },
  {
   "cell_type": "code",
   "execution_count": 47,
   "id": "aaab9b21",
   "metadata": {},
   "outputs": [
    {
     "data": {
      "text/plain": [
       "[(1, 'For Those About To Rock We Salute You'),\n",
       " (2, 'Balls to the Wall'),\n",
       " (3, 'Restless and Wild'),\n",
       " (4, 'Let There Be Rock'),\n",
       " (5, 'Big Ones')]"
      ]
     },
     "execution_count": 47,
     "metadata": {},
     "output_type": "execute_result"
    }
   ],
   "source": [
    "c.execute(\"\"\"SELECT al.id, al.title \n",
    "             FROM albums AS al\n",
    "             LIMIT 5\"\"\") \n",
    "row = c.fetchall()\n",
    "row"
   ]
  },
  {
   "cell_type": "markdown",
   "id": "0a19be41",
   "metadata": {},
   "source": [
    "## Selection"
   ]
  },
  {
   "cell_type": "code",
   "execution_count": 51,
   "id": "e61a69d8",
   "metadata": {},
   "outputs": [
    {
     "data": {
      "text/plain": [
       "[(20, 'The Best Of Buddy Guy - The Millenium Collection', 15)]"
      ]
     },
     "execution_count": 51,
     "metadata": {},
     "output_type": "execute_result"
    }
   ],
   "source": [
    "c.execute(\"\"\"SELECT *\n",
    "             FROM albums AS al\n",
    "             WHERE al.id IN (20)\"\"\") #NOT IN pour n'est pas dans la liste\n",
    "row = c.fetchall()\n",
    "row"
   ]
  },
  {
   "cell_type": "code",
   "execution_count": 56,
   "id": "a1ba0453",
   "metadata": {},
   "outputs": [
    {
     "data": {
      "text/plain": [
       "[(11, 'Out Of Exile', 8),\n",
       " (13, 'The Best Of Billy Cobham', 10),\n",
       " (20, 'The Best Of Buddy Guy - The Millenium Collection', 15),\n",
       " (38, 'Heart of the Night', 53),\n",
       " (47, 'The Best of Ed Motta', 37),\n",
       " (61, \"Knocking at Your Back Door: The Best Of Deep Purple in the 80's\", 58),\n",
       " (72, 'The Cream Of Clapton', 81),\n",
       " (74, 'Album Of The Year', 82),\n",
       " (83, 'My Way: The Best Of Frank Sinatra [Disc 1]', 85),\n",
       " (94, 'A Matter of Life and Death', 90),\n",
       " (98, 'Dance Of Death', 90),\n",
       " (99, 'Fear Of The Dark', 90),\n",
       " (106, 'Piece Of Mind', 90),\n",
       " (110, 'Seventh Son of a Seventh Son', 90),\n",
       " (112, 'The Number of The Beast', 90),\n",
       " (118, 'The Return Of The Space Cowboy', 92),\n",
       " (129, 'Houses Of The Holy', 22),\n",
       " (146, 'Seek And Shall Find: More Of The Best (1963-1981)', 104),\n",
       " (147, 'The Best Of Men At Work', 105),\n",
       " (152, 'Master Of Puppets', 50),\n",
       " (160, 'Ace Of Spades', 106),\n",
       " (163, 'From The Muddy Banks Of The Wishkah [Live]', 110),\n",
       " (171, 'Blizzard of Ozz', 114),\n",
       " (172, 'Diary of a Madman (Remastered)', 114),\n",
       " (183, 'Dark Side Of The Moon', 120),\n",
       " (186, 'News Of The World', 51),\n",
       " (187, 'Out Of Time', 122),\n",
       " (190, 'The Best Of R.E.M.: The IRS Years', 124),\n",
       " (213,\n",
       "  'Pure Cult: The Best Of The Cult (For Rockers, Ravers, Lovers & Sinners) [UK]',\n",
       "  139),\n",
       " (221, 'My Generation - The Very Best Of The Who', 144),\n",
       " (238, 'The Best Of 1980-1990', 150),\n",
       " (241, 'UB40 The Best Of - Volume Two [UK]', 151),\n",
       " (243, 'The Best Of Van Halen, Vol. I', 152),\n",
       " (256, 'Speak of the Devil', 114),\n",
       " (257,\n",
       "  '20th Century Masters - The Millennium Collection: The Best of Scorpions',\n",
       "  179),\n",
       " (258, 'House of Pain', 180),\n",
       " (265, 'Every Kind of Light', 200),\n",
       " (268, 'The Best of Beethoven', 203),\n",
       " (269, 'Temple of the Dog', 204),\n",
       " (272, 'Adorate Deum: Gregorian Chant from the Proper of the Mass', 206),\n",
       " (280, 'The World of Classical Favourites', 214),\n",
       " (290, 'The Last Night of the Proms', 224),\n",
       " (305, 'Great Recordings of the Century - Mahler: Das Lied von der Erde', 240),\n",
       " (319, 'Armada: Music from the Courts of England and Spain', 251),\n",
       " (339, \"Great Recordings of the Century: Paganini's 24 Caprices\", 268),\n",
       " (341,\n",
       "  'Great Recordings of the Century - Shubert: Schwanengesang, 4 Lieder',\n",
       "  270),\n",
       " (343, 'Respighi:Pines of Rome', 226)]"
      ]
     },
     "execution_count": 56,
     "metadata": {},
     "output_type": "execute_result"
    }
   ],
   "source": [
    "c.execute(\"\"\"SELECT *\n",
    "             FROM albums AS al\n",
    "             WHERE UPPER(al.title) LIKE '% OF %'\"\"\") #si row_factory actif, renvoie un objet row_factory\n",
    "row = c.fetchall()\n",
    "row"
   ]
  },
  {
   "cell_type": "markdown",
   "id": "90c03e67",
   "metadata": {},
   "source": [
    "## Counting & Sorting & Grouping"
   ]
  },
  {
   "cell_type": "markdown",
   "id": "c0e2c322",
   "metadata": {},
   "source": [
    "### HAVING"
   ]
  },
  {
   "cell_type": "code",
   "execution_count": 67,
   "id": "7d1277c9",
   "metadata": {},
   "outputs": [
    {
     "data": {
      "text/plain": [
       "[(141, 'Are You Gonna Go My Way', 57),\n",
       " (23, 'Carolina', 34),\n",
       " (73, 'Signe', 30),\n",
       " (229, 'A Tale of Two Cities', 26)]"
      ]
     },
     "execution_count": 67,
     "metadata": {},
     "output_type": "execute_result"
    }
   ],
   "source": [
    "c.execute(\"\"\"SELECT album_id, name, COUNT(*) as album_id_count\n",
    "             FROM tracks\n",
    "             GROUP BY album_id\n",
    "             HAVING album_id_count > 25       \n",
    "             ORDER BY album_id_count DESC \"\"\") # On utilise HAVING à la place de WHERE lorsque la colonne est construite dynamiquement\n",
    "row = c.fetchall()\n",
    "row"
   ]
  },
  {
   "cell_type": "markdown",
   "id": "e060befd",
   "metadata": {},
   "source": [
    "### CASE WHEN"
   ]
  },
  {
   "cell_type": "code",
   "execution_count": 68,
   "id": "d5db0ba5",
   "metadata": {},
   "outputs": [
    {
     "data": {
      "text/plain": [
       "[(1358, 6, 'Autre'),\n",
       " (1297, 1, 'Rock'),\n",
       " (718, 3, 'Super genre'),\n",
       " (130, 2, 'Jazz')]"
      ]
     },
     "execution_count": 68,
     "metadata": {},
     "output_type": "execute_result"
    }
   ],
   "source": [
    "c.execute(\"\"\"SELECT \n",
    "             COUNT(*) as album_id_count, genre_id,\n",
    "             CASE \n",
    "                 WHEN genre_id = 1\n",
    "                     THEN 'Rock'\n",
    "                 WHEN genre_id = 2\n",
    "                     THEN 'Jazz'\n",
    "                 WHEN genre_id > 2 AND genre_id < 6\n",
    "                     THEN 'Super genre'\n",
    "                 ELSE 'Autre'\n",
    "             END AS outcome\n",
    "             FROM tracks\n",
    "             GROUP BY outcome\n",
    "             ORDER BY album_id_count DESC\"\"\")\n",
    "row = c.fetchall()\n",
    "row"
   ]
  },
  {
   "cell_type": "markdown",
   "id": "3a076428",
   "metadata": {},
   "source": [
    "### JOIN"
   ]
  },
  {
   "cell_type": "code",
   "execution_count": 72,
   "id": "24781172",
   "metadata": {},
   "outputs": [
    {
     "data": {
      "text/plain": [
       "[(141, 57), (23, 34), (73, 30), (229, 26), (251, 25)]"
      ]
     },
     "execution_count": 72,
     "metadata": {},
     "output_type": "execute_result"
    }
   ],
   "source": [
    "c.execute(\"\"\"SELECT albums.id, COUNT(tracks.album_id) as count_col\n",
    "             FROM albums\n",
    "             JOIN tracks ON albums.id = tracks.album_id\n",
    "             GROUP BY albums.id\n",
    "             ORDER BY count_col DESC\n",
    "             LIMIT 5\"\"\")\n",
    "row = c.fetchall()\n",
    "row"
   ]
  },
  {
   "cell_type": "markdown",
   "id": "6a0b074b",
   "metadata": {},
   "source": [
    "# Advanced SQL"
   ]
  },
  {
   "cell_type": "code",
   "execution_count": null,
   "id": "3a4e68d4",
   "metadata": {},
   "outputs": [],
   "source": []
  }
 ],
 "metadata": {
  "kernelspec": {
   "display_name": "Python 3 (ipykernel)",
   "language": "python",
   "name": "python3"
  },
  "language_info": {
   "codemirror_mode": {
    "name": "ipython",
    "version": 3
   },
   "file_extension": ".py",
   "mimetype": "text/x-python",
   "name": "python",
   "nbconvert_exporter": "python",
   "pygments_lexer": "ipython3",
   "version": "3.8.12"
  },
  "toc": {
   "base_numbering": 1,
   "nav_menu": {},
   "number_sections": true,
   "sideBar": true,
   "skip_h1_title": false,
   "title_cell": "Table of Contents",
   "title_sidebar": "Contents",
   "toc_cell": false,
   "toc_position": {},
   "toc_section_display": true,
   "toc_window_display": false
  }
 },
 "nbformat": 4,
 "nbformat_minor": 5
}
