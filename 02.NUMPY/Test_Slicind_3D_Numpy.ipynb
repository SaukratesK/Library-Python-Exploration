{
 "cells": [
  {
   "cell_type": "code",
   "execution_count": 1,
   "id": "3f5dd96c",
   "metadata": {},
   "outputs": [],
   "source": [
    "import numpy as np "
   ]
  },
  {
   "cell_type": "code",
   "execution_count": 2,
   "id": "0131b94f",
   "metadata": {},
   "outputs": [
    {
     "name": "stdout",
     "output_type": "stream",
     "text": [
      "[ 7 11  5 18 15 21 18 15 20 14 12  1 11 15 10  5 17 13 20  4 22 15 14 20\n",
      " 16  1 10]\n"
     ]
    }
   ],
   "source": [
    "A = np.random.randint(1,25,27)\n",
    "print(A)"
   ]
  },
  {
   "cell_type": "code",
   "execution_count": 9,
   "id": "fcf929b4",
   "metadata": {},
   "outputs": [],
   "source": [
    "A = A.reshape((3,3,3))"
   ]
  },
  {
   "cell_type": "code",
   "execution_count": 12,
   "id": "615df4ef",
   "metadata": {},
   "outputs": [
    {
     "name": "stdout",
     "output_type": "stream",
     "text": [
      "[[[ 7 11  5]\n",
      "  [18 15 21]\n",
      "  [18 15 20]]\n",
      "\n",
      " [[14 12  1]\n",
      "  [11 15 10]\n",
      "  [ 5 17 13]]\n",
      "\n",
      " [[20  4 22]\n",
      "  [15 14 20]\n",
      "  [16  1 10]]]\n"
     ]
    }
   ],
   "source": [
    "print(A)"
   ]
  },
  {
   "cell_type": "code",
   "execution_count": 20,
   "id": "c684d181",
   "metadata": {},
   "outputs": [
    {
     "data": {
      "text/plain": [
       "array([ 7, 18, 18])"
      ]
     },
     "execution_count": 20,
     "metadata": {},
     "output_type": "execute_result"
    }
   ],
   "source": [
    "A[0,0:3,0]"
   ]
  }
 ],
 "metadata": {
  "kernelspec": {
   "display_name": "Python 3 (ipykernel)",
   "language": "python",
   "name": "python3"
  },
  "language_info": {
   "codemirror_mode": {
    "name": "ipython",
    "version": 3
   },
   "file_extension": ".py",
   "mimetype": "text/x-python",
   "name": "python",
   "nbconvert_exporter": "python",
   "pygments_lexer": "ipython3",
   "version": "3.8.6"
  },
  "toc": {
   "base_numbering": 1,
   "nav_menu": {},
   "number_sections": true,
   "sideBar": true,
   "skip_h1_title": false,
   "title_cell": "Table of Contents",
   "title_sidebar": "Contents",
   "toc_cell": false,
   "toc_position": {},
   "toc_section_display": true,
   "toc_window_display": false
  }
 },
 "nbformat": 4,
 "nbformat_minor": 5
}
